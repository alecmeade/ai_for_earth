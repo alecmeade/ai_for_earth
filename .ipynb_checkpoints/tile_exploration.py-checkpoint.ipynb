{
 "cells": [
  {
   "cell_type": "code",
   "execution_count": null,
   "metadata": {},
   "outputs": [],
   "source": [
    "from landcover_dataloader import LandCoverDataset\n",
    "import matplotlib.pyplot as plt\n",
    "import seaborn as sns\n",
    "import dataset_utils as utils\n",
    "import csv"
   ]
  },
  {
   "cell_type": "code",
   "execution_count": null,
   "metadata": {},
   "outputs": [],
   "source": [
    "feature_dir_base = \"/mnt/blobfuse/esri-naip/v002/md/2015/md_100cm_2015/\"\n",
    "label_dir_base = \"/mnt/blobfuse/resampled-lc/data/v1/2015/states/md/md_1m_2015/\"\n",
    "block_data_path = \"md_1m_2015.csv\"\n",
    "with open(block_data_path, \"w\") as f:\n",
    "    writer = csv.writer(f)\n",
    "    writer.writerow([\"Feature Dir\", feature_dir_base])\n",
    "    writer.writerow([\"Label Dir\", label_dir_base])\n",
    "    writer.writerow([\"#\"])\n",
    "    writer.writerow([\"block\", \"tile\", \"percent_zero_channels\", \"labels\", \"label_counts\"])\n",
    "    for block in os.listdir(feature_dir_base):\n",
    "        tile_dir = os.path.join(feature_dir_base, block)\n",
    "        label_tile_dir = os.path.join(label_dir_base, block)\n",
    "        if os.path.isdir(tile_dir):\n",
    "            for tile in os.listdir(tile_dir):\n",
    "                if tile.endswith(\".tif\"):\n",
    "                    if os.path.exists(label_dir + tile[:-4] + \"_lc.tif\"):\n",
    "                        x = utils.read_tif_to_np(os.path.join(tile_dir, tile))\n",
    "                        y = utils.read_tif_to_np(os.path.join(label_tile_dir, tile[:-4] + \"_lc.tif\"))\n",
    "                        f, ax = plt.subplots(1, 3, figsize=(20, 8))\n",
    "                        ax[0].imshow(np.moveaxis(x, [0], [2]))\n",
    "                        labels = np.moveaxis(y, [0], [2])[:, :, 0]\n",
    "                        ax[1].imshow(labels)\n",
    "                        unique_labels, counts = np.unique(labels, return_counts=True)\n",
    "                        sns.barplot(unique_labels, counts / np.sum(counts), ax=ax[2])\n",
    "                        num_zero_channels = np.sum(np.sum(x == 0, axis=0) == 4)\n",
    "                        percent_zero_channels = num_zero_channels / np.product(y.shape)\n",
    "                        print(block, tile, percent_zero_channels)\n",
    "                        plt.show()\n",
    "                        writer.writerow([block, tile, percent_zero_channels, unique_labels, counts / np.sum(counts)])"
   ]
  },
  {
   "cell_type": "code",
   "execution_count": null,
   "metadata": {},
   "outputs": [],
   "source": [
    "def display_tile(tile_dir, label_dir):\n",
    "    x = utils.read_tif_to_np(tile_dir)\n",
    "    y = utils.read_tif_to_np(label_dir)\n",
    "    f, ax = plt.subplots(1, 3, figsize=(20, 8))\n",
    "    ax[0].imshow(np.moveaxis(x, [0], [2]))\n",
    "    labels = np.moveaxis(y, [0], [2])[:, :, 0]\n",
    "    ax[1].imshow(labels)\n",
    "    unique_labels, counts = np.unique(labels, return_counts=True)\n",
    "    sns.barplot(unique_labels, counts / np.sum(counts), ax=ax[2])\n",
    "    num_zero_channels = np.sum(np.sum(x == 0, axis=0) == 4)\n",
    "    percent_zero_channels = float(num_zero_channels) / np.product(y.shape)\n",
    "    print(block, tile, percent_zero_channels, num_zero_channels)\n",
    "    plt.show()\n",
    "\n",
    "tile_dir = \"/mnt/blobfuse/maryland/md_1m_2013_extended-train_tiles/\"\n",
    "for tile in os.listdir(tile_dir):\n",
    "    if tile.endswith(\"naip-new.tif\"):\n",
    "        display_tile(os.path.join(tile_dir, tile), os.path.join(tile_dir, tile[:-12] + \"lc.tif\"))\n"
   ]
  },
  {
   "cell_type": "code",
   "execution_count": null,
   "metadata": {},
   "outputs": [],
   "source": []
  }
 ],
 "metadata": {
  "kernelspec": {
   "display_name": "py37_pytorch",
   "language": "python",
   "name": "conda-env-py37_pytorch-py"
  },
  "language_info": {
   "codemirror_mode": {
    "name": "ipython",
    "version": 3
   },
   "file_extension": ".py",
   "mimetype": "text/x-python",
   "name": "python",
   "nbconvert_exporter": "python",
   "pygments_lexer": "ipython3",
   "version": "3.7.7"
  }
 },
 "nbformat": 4,
 "nbformat_minor": 4
}
