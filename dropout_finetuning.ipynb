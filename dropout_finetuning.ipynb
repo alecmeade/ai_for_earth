{
 "cells": [
  {
   "cell_type": "code",
   "execution_count": 98,
   "metadata": {},
   "outputs": [
    {
     "name": "stdout",
     "output_type": "stream",
     "text": [
      "The autoreload extension is already loaded. To reload it, use:\n",
      "  %reload_ext autoreload\n"
     ]
    }
   ],
   "source": [
    "%load_ext autoreload\n",
    "%autoreload 2\n",
    "\n",
    "import cv2\n",
    "import matplotlib.pyplot as plt\n",
    "import numpy as np\n",
    "import os\n",
    "import rasterio\n",
    "import seaborn as sns\n",
    "import torch\n",
    "\n",
    "from evolver import CrossoverType, MutationType, MatrixEvolver\n",
    "from unet import UNet"
   ]
  },
  {
   "cell_type": "code",
   "execution_count": 105,
   "metadata": {},
   "outputs": [],
   "source": [
    "def read_tif_to_np(tif_path):\n",
    "    \"\"\"Reads a tif file and converts it into a numpy.ndarray.\n",
    "    \n",
    "    Arg:\n",
    "        tif_path: The full path to the tif file to read.\n",
    "    \n",
    "    Returns:\n",
    "        A numpy.ndarray containing the tif file data.\n",
    "    \n",
    "    \"\"\"\n",
    "    with rasterio.open(tif_path) as f:\n",
    "        data = np.rollaxis(f.read(), 0, 3)\n",
    "        return data\n",
    "    \n",
    "def get_tile_labels(base_dir, tile):\n",
    "    \"\"\"Retrieves the landcover labels data for a given tile.\n",
    "    \n",
    "    Args:\n",
    "        base_dir: A directory to a tile block.\n",
    "        tile: A tile name of format {block}/{block}{quad}_{quarter}_{garbage}.\n",
    "    \n",
    "    Returns:\n",
    "        A ndarray containing the labels data for the tile.\n",
    "    \n",
    "    \"\"\"\n",
    "    dir_ext = \"_lc.tif\"\n",
    "    tile_path = base_dir + tile + dir_ext\n",
    "    return read_tif_to_np(tile_path)\n",
    "\n",
    "def get_tile_features(base_dir, tile):\n",
    "    \"\"\"Retrieves the landcover features data for a given tile.\n",
    "    \n",
    "    Args:\n",
    "        base_dir: A directory to a tile block.\n",
    "        tile: A tile name of format {block}/{block}{quad}_{quarter}_{garbage}.\n",
    "    \n",
    "    Returns:\n",
    "        A ndarray) containing the features data for the tile.\n",
    "    \n",
    "    \"\"\"\n",
    "    dir_ext = \".tif\" \n",
    "    tile_path = base_dir + tile + dir_ext\n",
    "    return read_tif_to_np(tile_path)\n",
    "\n",
    "def apply_label_remap(labels, label_map):\n",
    "    \"\"\"Reassigns labels inplace in an numpy array given a provided mapping.\n",
    "    \n",
    "    Args:\n",
    "        labels: An ndarray of labels.\n",
    "        label_map: A dict[int, int] mapping label classes [original, new].\n",
    "        \n",
    "    \"\"\"\n",
    "    for l1, l2 in label_map.items():\n",
    "        labels[labels == l1] = l2\n",
    "        \n",
    "def sample_patches(data, labels, patch_size, n_samples):\n",
    "    \"\"\"Generates image patches from a tile containing features and corresponding labels.\n",
    "    \n",
    "    Args:\n",
    "        data: The x features of the image.\n",
    "        labels: The y labels of the image.\n",
    "        patch_size: An Iterable[int, int] size of the image patch to be extracted.\n",
    "        n_samples: The number of samples to extract per tile.\n",
    "        \n",
    "    Returns:\n",
    "        A list of x_patches and y_patches containg features and labels respectively.\n",
    "\n",
    "    \"\"\"\n",
    "    height, width = patch_size\n",
    "    x_patches = np.zeros(n_samples, height, wodt)\n",
    "    y_patches = np.zeros()\n",
    "\n",
    "    for i in range(n_samples):\n",
    "        x = np.random.randint(0, data.shape[1] - width)\n",
    "        y = np.random.randint(0, data.shape[0] - height)\n",
    "        img = data[y:y + height, x:x + width, :].astype(np.float32)\n",
    "        target = all_data_color_labels[count][y:y+height, x:x+width].copy()\n",
    "\n",
    "    return x_patches, y_patches"
   ]
  },
  {
   "cell_type": "code",
   "execution_count": 59,
   "metadata": {},
   "outputs": [],
   "source": [
    "# Define tiles to be used in testing, training and finetuning.\n",
    "tile_dir_features = \"/mnt/blobfuse/resampled-lc/data/v1/2015/states/md/md_1m_2015/39076/\"\n",
    "tile_dir_labels = \"/mnt/blobfuse/esri-naip/v002/md/2015/md_100cm_2015/39076/\" \n",
    "tiles = [\"m_3907639_sw_18_1_20150815\", \"m_3907639_ne_18_1_20150815\"]"
   ]
  },
  {
   "cell_type": "code",
   "execution_count": 60,
   "metadata": {},
   "outputs": [],
   "source": [
    "# Read X and Y data for the tile and apply label transformations.\n",
    "tile = tiles[0]\n",
    "data = get_tile_features(tile_dir_features, tile)\n",
    "labels = get_tile_labels(tile_dir_labels, tile)\n",
    "\n",
    "water_forest_land_impervious_remap = {5: 4, 6: 4}\n",
    "apply_label_remap(labels, water_forest_land_impervious_remap)\n",
    "\n",
    "patch_size = (256, 256)\n",
    "samples_per_tile = 5000\n",
    "x, y = sample_patches(data, labels, patch_size, samples_per_tile)"
   ]
  },
  {
   "cell_type": "code",
   "execution_count": 100,
   "metadata": {},
   "outputs": [],
   "source": [
    "model = UNet(in_channels = 256, n_classes = len(np.unique(y)), depth = 4)\n",
    "layer_sizes = [[10, 10], [5, 5]]\n",
    "dropout_mask_evolver = MatrixEvolver(layer_sizes, CrossoverType.UNIFORM, MutationType.FLIP_BIT)"
   ]
  }
 ],
 "metadata": {
  "kernelspec": {
   "display_name": "py37_pytorch",
   "language": "python",
   "name": "conda-env-py37_pytorch-py"
  },
  "language_info": {
   "codemirror_mode": {
    "name": "ipython",
    "version": 3
   },
   "file_extension": ".py",
   "mimetype": "text/x-python",
   "name": "python",
   "nbconvert_exporter": "python",
   "pygments_lexer": "ipython3",
   "version": "3.7.7"
  }
 },
 "nbformat": 4,
 "nbformat_minor": 4
}
