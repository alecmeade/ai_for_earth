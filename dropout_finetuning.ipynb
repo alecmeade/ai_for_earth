{
 "cells": [
  {
   "cell_type": "code",
   "execution_count": 1,
   "metadata": {},
   "outputs": [],
   "source": [
    "%load_ext autoreload\n",
    "%autoreload 2\n",
    "\n",
    "import gc\n",
    "import matplotlib.pyplot as plt\n",
    "import numpy as np\n",
    "import os\n",
    "import pandas as pd\n",
    "import torch\n",
    "import torch.nn as nn\n",
    "import torchvision\n",
    "\n",
    "# To view tensorboard metrics\n",
    "# tensorboard --logdir=log --port=6006 --bind_all\n",
    "from torch.utils.tensorboard import SummaryWriter\n",
    "from functools import partial\n",
    "from evolver import CrossoverType, MutationType, MatrixEvolver\n",
    "from models.unet import UNet\n",
    "from metrics import accuracy, iou\n",
    "from dataset_utils import PartitionType\n",
    "from cuda_utils import maybe_get_cuda_device, clear_gpu\n",
    "from landcover_dataloader import get_landcover_dataloaders"
   ]
  },
  {
   "cell_type": "code",
   "execution_count": null,
   "metadata": {},
   "outputs": [],
   "source": [
    "# Define directories for data, logging and model saving.\n",
    "base_dir = os.getcwd()\n",
    "dataset_dir = os.path.join(base_dir, \"data/landcover_small\")\n",
    "log_dir = os.path.join(os.getcwd(), \"/log\")\n",
    "model_dir = os.path.join(os.getcwd(), \"/saved_models\")"
   ]
  },
  {
   "cell_type": "code",
   "execution_count": 3,
   "metadata": {},
   "outputs": [],
   "source": [
    "# Create DataLoaders for each partition of Landcover data.\n",
    "dataloader_params = {\n",
    "    'batch_size': 16,\n",
    "    'shuffle': True,\n",
    "    'num_workers': 4,\n",
    "    'pin_memory': True}\n",
    "\n",
    "partition_types = [PartitionType.TRAIN, PartitionType.VALIDATION, \n",
    "                   PartitionType.FINETUNING, PartitionType.TEST]\n",
    "data_loaders = get_landcover_dataloaders(dataset_dir, \n",
    "                                         partition_types,\n",
    "                                         dataloader_params)\n",
    "train_loader = data_loaders[0]\n",
    "validation_loader = data_loaders[1]\n",
    "finetuning_loader = data_loaders[2]\n",
    "test_loader = data_loaders[3]"
   ]
  },
  {
   "cell_type": "code",
   "execution_count": 9,
   "metadata": {},
   "outputs": [],
   "source": [
    "def train(engine, batch):\n",
    "    \"\"\"\"\"\"\n",
    "    with torch.enable_grad():\n",
    "        batch_x, batch_y = batch[0].to(device), batch[1].to(device)\n",
    "        optimizer.zero_grad()\n",
    "        outputs = model(batch_x)\n",
    "        loss = loss_fn(outputs, batch_y)\n",
    "        loss.backward()\n",
    "        optimizer.step()\n",
    "            \n",
    "def evaluate(engine, batch):\n",
    "    \"\"\"\"\"\"\n",
    "    model.eval()\n",
    "    with torch.no_grad():\n",
    "        batch_x, batch_y = batch[0].to(device), batch[1].to(device)\n",
    "        outputs = model(batch_x)\n",
    "        return outputs, batch_y"
   ]
  },
  {
   "cell_type": "code",
   "execution_count": 10,
   "metadata": {},
   "outputs": [],
   "source": [
    "# Get GPU device if available.\n",
    "device = cuda_utils.maybe_get_cuda_device()\n",
    "\n",
    "params = {\n",
    "    'max_epochs': 1,\n",
    "    'n_classes': 4,\n",
    "    'in_channels': 4,\n",
    "    'depth': 4,\n",
    "    'learning_rate': 0.01,\n",
    "    'momentum': 0.8,\n",
    "    'log_steps': 5\n",
    "}\n",
    "\n",
    "metrics = {\n",
    "    \"accuracy\": accuracy_fn\n",
    "}\n",
    "\n",
    "cuda_utils.clear_gpu()    \n",
    "model = UNet(in_channels = params['in_channels'],\n",
    "             n_classes = params['n_classes'],\n",
    "             depth = params['depth'])\n",
    "model.to(device)\n",
    "loss_fn = nn.CrossEntropyLoss()\n",
    "optimizer = torch.optim.SGD(model.parameters(), \n",
    "                            lr=params['learning_rate'],\n",
    "                            momentum=params['momentum'])"
   ]
  },
  {
   "cell_type": "code",
   "execution_count": null,
   "metadata": {},
   "outputs": [],
   "source": [
    "# Train Model\n",
    "for epoch in range(params['max_epochs']):\n",
    "    train_loss, train_reports = train(model, optimizer, loss_fn,\n",
    "                                      train_loader, metrics, params['log_steps'], device)\n",
    "    validate_loss, validate_reports = evaluate(model, loss_fn, validation_loader, metrics, device)"
   ]
  },
  {
   "cell_type": "code",
   "execution_count": 11,
   "metadata": {
    "scrolled": true
   },
   "outputs": [
    {
     "name": "stdout",
     "output_type": "stream",
     "text": [
      "Train:  1.4302207231521606\n",
      "Train:  1.1587666273117065\n",
      "Train:  1.4722106456756592\n",
      "Train:  1.4438084363937378\n",
      "Train:  1.1136218309402466\n",
      "Train:  1.2759853601455688\n",
      "Train:  0.9879368543624878\n",
      "Train:  1.1005209684371948\n"
     ]
    }
   ],
   "source": [
    "# Fine tune with back prop\n",
    "# TODO move to finetuning directory\n",
    "for epoch in range(params['max_epochs']):\n",
    "    finetuning_loss, finetuning_reports = train(model, optimizer, loss_fn,\n",
    "                                                finetuning_loader, metrics, params['log_steps'], device)\n",
    "    \n",
    "    test_loss, test_reports = evaluate(model, loss_fn, test_loader, metrics, device)\n",
    "    \n",
    "# Finetine with Dropout\n",
    "dropout_masks = {\n",
    "    'start': [256, 256],\n",
    "#     'down_0': None,\n",
    "#     'down_1': None,\n",
    "#     'down_2': None,\n",
    "#     'down_3': None,\n",
    "#     'down_4': None,\n",
    "#     'up_0': None,\n",
    "#     'up_1': None,\n",
    "#     'up_2': None,\n",
    "#     'up_3': None,\n",
    "#     'end': None,   \n",
    "}\n",
    "\n",
    "finetuning_params = {\n",
    "    \"n_generations\": 100\n",
    "    \"n_children\": 10\n",
    "}\n",
    "\n",
    "\n",
    "\n",
    "evolver = MatrixEvolver([m for k, m in dropout_masks.items() if m is not None],\n",
    "                        CrossoverType.UNIFORM, MutationType.FLIP_BIT)\n",
    "\n",
    "def dropout_finetune(engine, batch):\n",
    "    model.eval()\n",
    "    with torch.no_grad():\n",
    "        batch_x, batch_y = batch[0].to(device), batch[1].to(device)\n",
    "        for child in range(params['n_children']):\n",
    "            child_masks = evolver.spawn_child()\n",
    "            model.set_dropout_masks({k: torch.tensor(child_masks[i], \n",
    "                                                     device=device,\n",
    "                                                     dtype=torch.float) for i, k in enumerate(dropout_masks.keys())})\n",
    "\n",
    "            outputs = model(batch_x)\n",
    "            loss = loss_fn(outputs, batch_y)\n",
    "            total_loss += loss.item()\n",
    "            evolver.add_child(child_masks, total_loss)\n",
    "\n",
    "        evolver.update_parents()\n",
    "\n",
    "    return pass\n",
    "\n",
    "\n",
    "for epoch in range(finetuning_params['max_epochs']):\n",
    "    dropout_finetune(model, loss_fn, data_loader, metrics, dropout_masks, params, device)\n",
    "    test_loss, test_reports = evaluate(model, loss_fn, test_loader, metrics, device)"
   ]
  }
 ],
 "metadata": {
  "kernelspec": {
   "display_name": "Python 3.5",
   "language": "python",
   "name": "python3"
  },
  "language_info": {
   "codemirror_mode": {
    "name": "ipython",
    "version": 3
   },
   "file_extension": ".py",
   "mimetype": "text/x-python",
   "name": "python",
   "nbconvert_exporter": "python",
   "pygments_lexer": "ipython3",
   "version": "3.5.6"
  }
 },
 "nbformat": 4,
 "nbformat_minor": 4
}
