{
 "cells": [
  {
   "cell_type": "code",
   "execution_count": 93,
   "metadata": {},
   "outputs": [
    {
     "name": "stdout",
     "output_type": "stream",
     "text": [
      "The autoreload extension is already loaded. To reload it, use:\n",
      "  %reload_ext autoreload\n"
     ]
    },
    {
     "ename": "IndentationError",
     "evalue": "unexpected indent (evolver.py, line 20)",
     "output_type": "error",
     "traceback": [
      "Traceback \u001b[0;36m(most recent call last)\u001b[0m:\n",
      "  File \u001b[1;32m\"/anaconda/envs/py37_pytorch/lib/python3.7/site-packages/IPython/core/interactiveshell.py\"\u001b[0m, line \u001b[1;32m3331\u001b[0m, in \u001b[1;35mrun_code\u001b[0m\n    exec(code_obj, self.user_global_ns, self.user_ns)\n",
      "\u001b[0;36m  File \u001b[0;32m\"<ipython-input-93-443b670e9ec2>\"\u001b[0;36m, line \u001b[0;32m12\u001b[0;36m, in \u001b[0;35m<module>\u001b[0;36m\u001b[0m\n\u001b[0;31m    from evolver import MatrixEvolver\u001b[0m\n",
      "\u001b[0;36m  File \u001b[0;32m\"/home/ashley/notebooks/ameade/ai_for_earth/evolver.py\"\u001b[0;36m, line \u001b[0;32m20\u001b[0m\n\u001b[0;31m    def __init__(self,\u001b[0m\n\u001b[0m    ^\u001b[0m\n\u001b[0;31mIndentationError\u001b[0m\u001b[0;31m:\u001b[0m unexpected indent\n"
     ]
    }
   ],
   "source": [
    "%load_ext autoreload\n",
    "%autoreload 2\n",
    "\n",
    "import cv2\n",
    "import matplotlib.pyplot as plt\n",
    "import numpy as np\n",
    "import os\n",
    "import rasterio\n",
    "import seaborn as sns\n",
    "import torch\n",
    "\n",
    "from evolver import MatrixEvolver\n",
    "from unet import UNet"
   ]
  },
  {
   "cell_type": "code",
   "execution_count": 58,
   "metadata": {},
   "outputs": [],
   "source": [
    "def read_tif_to_np(tif_path):\n",
    "    \"\"\"Reads a tif file and converts it into a numpy.ndarray.\n",
    "    \n",
    "    Arg:\n",
    "        tif_path: The full path to the tif file to read.\n",
    "    \n",
    "    Returns:\n",
    "        A numpy.ndarray containing the tif file data.\n",
    "    \n",
    "    \"\"\"\n",
    "    with rasterio.open(tif_path) as f:\n",
    "        data = np.rollaxis(f.read(), 0, 3)\n",
    "        return data\n",
    "    \n",
    "def get_tile_y(base_dir, tile):\n",
    "    \"\"\"Retrieves the landcover y data for a given tile.\n",
    "    \n",
    "    Args:\n",
    "        base_dir: A directory to a tile block.\n",
    "        tile: A tile name of format {block}/{block}{quad}_{quarter}_{garbage}.\n",
    "    \n",
    "    Returns:\n",
    "        A ndarray containing the y data for the tile.\n",
    "    \n",
    "    \"\"\"\n",
    "    y_dir_ext = \"_lc.tif\"\n",
    "    y_tile_path = base_dir + tile + y_dir_ext\n",
    "    return read_tif_to_np(y_tile_path)\n",
    "\n",
    "def get_tile_x(base_dir, tile):\n",
    "    \"\"\"Retrieves the landcover x data for a given tile.\n",
    "    \n",
    "    Args:\n",
    "        base_dir: A directory to a tile block.\n",
    "        tile: A tile name of format {block}/{block}{quad}_{quarter}_{garbage}.\n",
    "    \n",
    "    Returns:\n",
    "        A ndarray) containing the x data for the tile.\n",
    "    \n",
    "    \"\"\"\n",
    "    x_dir_ext = \".tif\" \n",
    "    x_tile_path = base_dir + tile + x_dir_ext\n",
    "    return read_tif_to_np(x_tile_path)\n",
    "\n",
    "def apply_label_remap(labels, label_map):\n",
    "    \"\"\"Reassigns labels inplace in an numpy array given a provided mapping.\n",
    "    \n",
    "    Args:\n",
    "        labels: An ndarray of labels.\n",
    "        label_map: A dict[int, int] mapping label classes [original, new].\n",
    "        \n",
    "    \"\"\"\n",
    "    for l1, l2 in label_map.items():\n",
    "        labels[labels == l1] = l2"
   ]
  },
  {
   "cell_type": "code",
   "execution_count": 59,
   "metadata": {},
   "outputs": [],
   "source": [
    "# Define tiles to be used in testing, training and finetuning.\n",
    "tile_dir_y = \"/mnt/blobfuse/resampled-lc/data/v1/2015/states/md/md_1m_2015/39076/\"\n",
    "tile_dir_x = \"/mnt/blobfuse/esri-naip/v002/md/2015/md_100cm_2015/39076/\" \n",
    "tiles = [\"m_3907639_sw_18_1_20150815\", \"m_3907639_ne_18_1_20150815\"]"
   ]
  },
  {
   "cell_type": "code",
   "execution_count": 60,
   "metadata": {},
   "outputs": [],
   "source": [
    "# Read X and Y data for the tile and apply label transformations.\n",
    "tile = tiles[0]\n",
    "x = get_tile_x(tile_dir_x, tile)\n",
    "y = get_tile_y(tile_dir_y, tile)\n",
    "\n",
    "water_forest_land_impervious_remap = {5: 4, 6: 4}\n",
    "apply_label_remap(y, water_forest_land_impervious_remap)"
   ]
  },
  {
   "cell_type": "code",
   "execution_count": 92,
   "metadata": {},
   "outputs": [],
   "source": [
    "model = UNet(in_channels = 256, n_classes = len(np.unique(y)), depth = 4)\n",
    "dropout_mask_evolver = "
   ]
  }
 ],
 "metadata": {
  "kernelspec": {
   "display_name": "py37_pytorch",
   "language": "python",
   "name": "conda-env-py37_pytorch-py"
  },
  "language_info": {
   "codemirror_mode": {
    "name": "ipython",
    "version": 3
   },
   "file_extension": ".py",
   "mimetype": "text/x-python",
   "name": "python",
   "nbconvert_exporter": "python",
   "pygments_lexer": "ipython3",
   "version": "3.7.7"
  }
 },
 "nbformat": 4,
 "nbformat_minor": 4
}
