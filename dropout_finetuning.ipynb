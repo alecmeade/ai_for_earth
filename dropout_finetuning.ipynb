{
 "cells": [
  {
   "cell_type": "code",
   "execution_count": 5,
   "metadata": {},
   "outputs": [],
   "source": [
    "import cv2\n",
    "import matplotlib.pyplot as plt\n",
    "import numpy as np\n",
    "import os\n",
    "import rasterio\n",
    "import seaborn as sns\n",
    "import torch"
   ]
  },
  {
   "cell_type": "code",
   "execution_count": 46,
   "metadata": {},
   "outputs": [],
   "source": [
    "def read_tif_to_np(tif_path):\n",
    "    \"\"\"Reads a tif file and converts it into a numpy.ndarray\n",
    "    \n",
    "    Arg:\n",
    "        tif_path: The full path to the tif file to read.\n",
    "    \n",
    "    Returns:\n",
    "        A\"\"\"\n",
    "    with rasterio.open(y_tile_path) as f:\n",
    "        data = np.rollaxis(f.read(), 0, 3)\n",
    "        return data\n",
    "    \n",
    "def get_tile_y(base_dir, tile):\n",
    "    \"\"\"Retrieves the landcover y data for a given tile.\n",
    "    \n",
    "    Args:\n",
    "        base_dir: A directory to a tile block.\n",
    "        tile: A tile name of format {block}/{block}{quad}_{quarter}_{garbage}.\n",
    "    \n",
    "    Returns:\n",
    "        A ndarray containing the y data for the tile.\n",
    "    \n",
    "    \"\"\"\n",
    "    y_dir_ext = \"_lc.tif\"\n",
    "    y_tile_path = base_dir + tile + y_dir_ext\n",
    "    return read_tif_to_np(y_tile_path)\n",
    "\n",
    "def get_tile_x(base_dir, tile):\n",
    "    \"\"\"Retrieves the landcover x data for a given tile.\n",
    "    \n",
    "    Args:\n",
    "        base_dir: A directory to a tile block.\n",
    "        tile: A tile name of format {block}/{block}{quad}_{quarter}_{garbage}.\n",
    "    \n",
    "    Returns:\n",
    "        A ndarray) containing the x data for the tile.\n",
    "    \n",
    "    \"\"\"\n",
    "    x_dir_ext = \".tif\" \n",
    "    x_tile_path = base_dir + tile + x_dir_ext\n",
    "    return read_tif_to_np(y_tile_path)\n",
    "\n",
    "def apply_label_remap(labels, label_map):\n",
    "    \"\"\"Reassigns labels inplace in an numpy array given a provided mapping.\n",
    "    \n",
    "    Args:\n",
    "        labels: An ndarray of labels.\n",
    "        label_map: A dict[int, int] mapping label classes [original, new].\n",
    "        \n",
    "    \"\"\"\n",
    "    for l1, l2 in label_map.items():\n",
    "        labels[labels == l1] = l2\n",
    "\n",
    "\n",
    "# Define tiles to be used in testing, training and finetuning.\n",
    "tile_dir_y = \"/mnt/blobfuse/resampled-lc/data/v1/2015/states/md/md_1m_2015/39076/\"\n",
    "tile_dir_x = \"/mnt/blobfuse/esri-naip/v002/md/2015/md_100cm_2015/39076/\" \n",
    "tile = \"m_3907639_sw_18_1_20150815\"\n",
    "neighbor_tile = \"m_3907639_ne_18_1_20150815\"\n",
    "\n",
    "# Read X and Y data for the tile and apply label transformations.\n",
    "x = get_tile_x(tile_dir_x, neighbor_tile)\n",
    "y = get_tile_y(tile_dir_y, neighbor_tile)\n",
    "\n",
    "water_forest_land_impervious_remap = {5: 4, 6: 4}\n",
    "apply_label_remap(y, water_forest_land_impervious_remap)\n",
    "\n"
   ]
  },
  {
   "cell_type": "code",
   "execution_count": 37,
   "metadata": {},
   "outputs": [],
   "source": [
    "x_dir = \"esri-naip\"\n",
    "x_dir_ext = \".mrf\" \n",
    "x_tile_path = base_dir.format(data_dir=x_dir) + tile + x_dir_ext"
   ]
  },
  {
   "cell_type": "code",
   "execution_count": 38,
   "metadata": {},
   "outputs": [
    {
     "data": {
      "text/plain": [
       "'/mnt/blobfuse/esri-naip/data/v1/2015/states/md/md_1m_2015/39076/m_3907639_sw_18_1_20150815.mrf'"
      ]
     },
     "execution_count": 38,
     "metadata": {},
     "output_type": "execute_result"
    }
   ],
   "source": [
    "x_tile_path"
   ]
  },
  {
   "cell_type": "code",
   "execution_count": 42,
   "metadata": {},
   "outputs": [
    {
     "name": "stdout",
     "output_type": "stream",
     "text": [
      "<_io.BufferedReader name='/mnt/blobfuse/esri-naip/data/v1/2015/states/md/md_1m_2015/39076/m_3907639_sw_18_1_20150815.mrf'>\n"
     ]
    }
   ],
   "source": [
    "with open(x_tile_path, \"rb\") as f:\n",
    "    print (f)"
   ]
  },
  {
   "cell_type": "code",
   "execution_count": 48,
   "metadata": {},
   "outputs": [
    {
     "data": {
      "text/plain": [
       "(7606, 6066)"
      ]
     },
     "execution_count": 48,
     "metadata": {},
     "output_type": "execute_result"
    }
   ],
   "source": [
    "x.shape"
   ]
  },
  {
   "cell_type": "code",
   "execution_count": 49,
   "metadata": {},
   "outputs": [
    {
     "data": {
      "text/plain": [
       "(7606, 6066, 1)"
      ]
     },
     "execution_count": 49,
     "metadata": {},
     "output_type": "execute_result"
    }
   ],
   "source": [
    "y.shape"
   ]
  },
  {
   "cell_type": "code",
   "execution_count": null,
   "metadata": {},
   "outputs": [],
   "source": []
  }
 ],
 "metadata": {
  "kernelspec": {
   "display_name": "py37_pytorch",
   "language": "python",
   "name": "conda-env-py37_pytorch-py"
  },
  "language_info": {
   "codemirror_mode": {
    "name": "ipython",
    "version": 3
   },
   "file_extension": ".py",
   "mimetype": "text/x-python",
   "name": "python",
   "nbconvert_exporter": "python",
   "pygments_lexer": "ipython3",
   "version": "3.7.7"
  }
 },
 "nbformat": 4,
 "nbformat_minor": 4
}
